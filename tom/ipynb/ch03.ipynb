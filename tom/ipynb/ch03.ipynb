{
 "cells": [
  {
   "cell_type": "code",
   "execution_count": 1,
   "metadata": {},
   "outputs": [
    {
     "output_type": "display_data",
     "data": {
      "text/plain": "<IPython.core.display.Javascript object>",
      "application/javascript": "if(MathJax) {\n    MathJax.Hub.Config({\n        TeX: { equationNumbers: { autoNumber: \"AMS\" } }\n    });\n}\n"
     },
     "metadata": {}
    }
   ],
   "source": [
    "%%javascript\n",
    "if(MathJax) {\n",
    "    MathJax.Hub.Config({\n",
    "        TeX: { equationNumbers: { autoNumber: \"AMS\" } }\n",
    "    });\n",
    "}\n",
    ""
   ]
  },
  {
   "cell_type": "code",
   "execution_count": 2,
   "metadata": {},
   "outputs": [
    {
     "output_type": "display_data",
     "data": {
      "text/plain": "<IPython.core.display.Javascript object>",
      "application/javascript": "if(MathJax) {\n  MathJax.Hub.Queue(\n    [\"resetEquationNumbers\", MathJax.InputJax.TeX],\n    [\"PreProcess\", MathJax.Hub],\n    [\"Reprocess\", MathJax.Hub]\n  );\n}\n"
     },
     "metadata": {}
    }
   ],
   "source": [
    "%%javascript\n",
    "if(MathJax) {\n",
    "  MathJax.Hub.Queue(\n",
    "    [\"resetEquationNumbers\", MathJax.InputJax.TeX],\n",
    "    [\"PreProcess\", MathJax.Hub],\n",
    "    [\"Reprocess\", MathJax.Hub]\n",
    "  );\n",
    "}"
   ]
  },
  {
   "cell_type": "markdown",
   "metadata": {},
   "source": [
    "## ニューラルネットワーク\n",
    "\n",
    "パーセプトロンは，複雑な振る舞いをする関数であっても重みやバイアスを変えるだけで表現できる可能性を秘めていたが，問題としては，その重みを人間が与えていたことが課題であった．\n",
    "\n",
    "適切な重みをデータから自動で学習できると言うのがニューラルネットワークの重要な性質の1つである。\n",
    "ニューロン同士のつながり方に関して言えば，パーセプトロンと何ら変わることはない．\n",
    "\n",
    "$$\n",
    "\\begin{equation}\n",
    "y = \\begin{cases}\n",
    "    0 \\quad(b + w_1 x_1 + w_2 x_2 \\leqq 0) \\\\\n",
    "    1 \\quad(b + w_1 x_1 + w_2 x_2 > 0) \\\\\n",
    "\\end{cases}\n",
    "\\end{equation}\n",
    "$$\n",
    "\n",
    "を\n",
    "\n",
    "$$\n",
    "\\begin{equation}\n",
    "y = h(b + w_1 x_1 + w_2 x_2)\n",
    "\\end{equation}\n",
    "$$\n",
    "\n",
    "とおくと，\n",
    "\n",
    "$$\n",
    "\\begin{equation}\n",
    "h(x) = \\begin{cases}\n",
    "    0 \\quad(x \\leqq 0) \\\\\n",
    "    1 \\quad(x > 0) \\\\\n",
    "\\end{cases}\n",
    "\\end{equation}\n",
    "$$\n",
    "\n",
    "とかきなおせる．この$h(x)$を活性化関数と呼ぶ.\n",
    "\n",
    "パーセプトロンでは，この活性化関数に，閾値を超えれば，On/Offを切り替える**ステップ関数**を使っているといえる．\n",
    "\n",
    "また，ニューラルネットワークでよく使われる活性化関数として，\n",
    "\n",
    "### シグモイド関数\n",
    "\n",
    "$$\n",
    "\\begin{equation}\n",
    "h(x) = \\frac{1}{1 + exp(-x)}\n",
    "\\end{equation}\n",
    "$$\n",
    "\n",
    "### ReLU\n",
    "\n",
    "$$\n",
    "\\begin{equation}\n",
    "h(x) = \\begin{cases}\n",
    "x\\quad(x>0) \\\\\n",
    "0\\quad(x\\leqq0) \\\\\n",
    "\\end{cases}\n",
    "\\end{equation}\n",
    "$$\n",
    "\n",
    "\n",
    "重要なこととして，ニューラルネットワークでは，活性化関数に非線形関数を用いる必要があることが挙げられる．線形関数を用いると，隠れ層を用いなくても同じことを行うネットワークが必ず存在するため，結局隠れ層を使う意味がなくなってしまうからである．\n",
    "\n",
    "これは，$h(x) = cx$とすると，たとえば３層の場合, $y = h(h(h(x))$となるが，展開して，$y=c^3x$と書けてしまうから，というのがわかりやすい説明だろう．\n",
    "\n",
    "以下，活性化関数の実装をしていく"
   ]
  },
  {
   "cell_type": "code",
   "execution_count": 7,
   "metadata": {},
   "outputs": [
    {
     "output_type": "stream",
     "name": "stdout",
     "text": "[0 1 1]\n"
    }
   ],
   "source": [
    "import numpy as np\n",
    "\n",
    "# numpyを使うことで，numpyの配列（ベクトル）や行列も受け取ることができるようになる\n",
    "def step_function(x):\n",
    "    y = x > 0\n",
    "    return y.astype(np.int)\n",
    "\n",
    "print(step_function(np.array([-1.0, 0.5, 1.0])))\n",
    "\n",
    "def sigmoid(x):\n",
    "    return 1 / (1 + np.exp(-x))\n",
    "\n",
    "def relu(x):\n",
    "    return np.maximum(x, 0)"
   ]
  },
  {
   "cell_type": "markdown",
   "metadata": {},
   "source": [
    "## ニューラルネットワークの実装\n",
    "\n",
    "ここでは２層の隠れ層を持つ，３層ニューラルネットワークを構築する\n",
    "\n",
    "記号の確認\n",
    "\n",
    "1. $w^{(1)}_{12}$は，入力の２番目($x_2$)から，１層目の第一ニューロンへの重みを表す\n",
    "2. $b^{(1)}_1$は，１層目の第一ニューロンへのバイアスを表す\n",
    "\n",
    "$$\n",
    "\\begin{equation}\n",
    "a^{(1)}_1 = w^{(1)}_{11} x_1 + w^{(1)}_{12} x_2 + b^{(1)}_1\n",
    "\\end{equation}\n",
    "$$\n",
    "\n",
    "$$\n",
    "\\begin{equation}\n",
    "z^{(1)}_1 = h(a^{(1)}_1)\n",
    "\\end{equation}\n",
    "$$\n",
    "\n",
    "$$\n",
    "\\begin{equation}\n",
    "a^{(2)}_1 = w^{(2)}_{11} a^{(1)}_1 + w^{(2)}_{12} a^{(1)}_2 + w^{(2)}_{13} a^{(1)}_3 + b^{(2)}_1\n",
    "\\end{equation}\n",
    "$$\n",
    "\n",
    "$$\n",
    "\\begin{equation}\n",
    "z^{(2)}_1 = h(a^{(2)}_1)\n",
    "\\end{equation}\n",
    "$$\n",
    "\n",
    "$$\n",
    "\\begin{equation}\n",
    "a^{(3)}_1 = w^{(3)}_{11} a^{(2)}_1 + w^{(3)}_{12} a^{(2)}_2 + b^{(3)}_1\n",
    "\\end{equation}\n",
    "$$\n",
    "\n",
    "$$\n",
    "\\begin{equation}\n",
    "y_1 = \\sigma(a^{(3)}_1)\n",
    "\\end{equation}\n",
    "$$\n",
    "\n",
    "出力層の活性化関数である，$\\sigma(x)$は, $h(x)$とは別物である．\n",
    "以下の例では，`identity_function`が，それにあたる．"
   ]
  },
  {
   "cell_type": "code",
   "execution_count": 4,
   "metadata": {},
   "outputs": [
    {
     "output_type": "stream",
     "name": "stdout",
     "text": "[0.31682708 0.69627909]\n"
    }
   ],
   "source": [
    "def identity_function(x):\n",
    "    return x\n",
    "\n",
    "def init_network():\n",
    "    network = {}\n",
    "    network['b1'] = np.array([0.1,0.2,0.3])\n",
    "    network['W1'] = np.array([[0.1, 0.3, 0.5], [0.2, 0.4, 0.6]])\n",
    "    network['b2'] = np.array([0.1,0.2])\n",
    "    network['W2'] = np.array([[0.1, 0.4], [0.2, 0.5], [0.3, 0.6]])\n",
    "    network['b3'] = np.array([0.1,0.2])\n",
    "    network['W3'] = np.array([[0.1, 0.3], [0.2, 0.4]])\n",
    "\n",
    "    return network\n",
    "\n",
    "def forward(network, x):\n",
    "    W1, W2, W3 = network['W1'], network['W2'], network['W3']\n",
    "    b1, b2, b3 = network['b1'], network['b2'], network['b3']\n",
    "\n",
    "    a1 = np.dot(x, W1) + b1\n",
    "    z1 = sigmoid(a1)\n",
    "    a2 = np.dot(z1, W2) + b2\n",
    "    z2 = sigmoid(a2)\n",
    "    a3 = np.dot(z2, W3) + b3\n",
    "    y = identity_function(a3)\n",
    "    return y\n",
    "\n",
    "n = init_network()\n",
    "x = np.array([1.0, 0.5])\n",
    "print(forward(n, x))"
   ]
  },
  {
   "cell_type": "markdown",
   "metadata": {},
   "source": [
    "## 出力層の設計\n",
    "\n",
    "機械学習の問題は，大きく分類問題と回帰問題に分かれる．分類の場合には`softmax`, 回帰の場合には`identity`（＝恒等関数）を使われる事が多い\n",
    "\n",
    "### ソフトマックス\n",
    "\n",
    "出力を0-1の確率に変える（合計は１となる）\n",
    "\n",
    "$$\n",
    "\\begin{equation}\n",
    "y_k = \\frac{exp(a_k)}{\\sum^n_{i=1} exp(a_i)}\n",
    "\\end{equation}\n",
    "$$\n",
    "\n",
    "しかし，このソフトマックスをコンピュータ上でそのまま計算すると，桁が大きくなりすぎてオーバーフローが起きてしまう．そこで，\n",
    "\n",
    "$$\n",
    "\\begin{equation}\n",
    "y_k = \\frac{exp(a_k)}{\\sum^n_{i=1} exp(a_i)} = \\frac{C exp(a_k)}{C \\sum^n_{i=1} exp(a_i)} \\\\\n",
    "= \\frac{exp(a_k) + logC}{\\sum^n_{i=1} exp(a_i) + logC} \\\\\n",
    "= \\frac{exp(a_k) + C'}{\\sum^n_{i=1} exp(a_i) + C'}\n",
    "\\end{equation}\n",
    "$$\n",
    "\n",
    "つまり，分母と分子には任意の定数を足しても結果が変わらないことを利用して，たとえば，$exp(a_i)$の最大値をあらかじめ引いてやるなどの工夫をしておく必要がある．\n",
    "\n",
    "ちなみに，ソフトマックスはそれなりに重い処理であるため，クラス分類で出力の一番大きなものだけを認識結果として使う「推論」フェーズの場合，ソフトマックスを省略して，単に，`np.max(a)`を結果とすることが多い．ソフトマックスが利用されるのは，主に学習フェーズである．\n",
    "\n"
   ]
  },
  {
   "cell_type": "code",
   "execution_count": 17,
   "metadata": {},
   "outputs": [
    {
     "output_type": "stream",
     "name": "stdout",
     "text": "[0.28943311 0.31987306 0.39069383]\n"
    }
   ],
   "source": [
    "def softmax(a):\n",
    "    c = np.max(a)\n",
    "    exp_a = np.exp(a-c)\n",
    "    sum_exp_a = np.sum(exp_a)\n",
    "    return exp_a / sum_exp_a\n",
    "\n",
    "print(softmax(np.array([0.1,0.2,0.4])))"
   ]
  },
  {
   "cell_type": "code",
   "execution_count": 12,
   "metadata": {},
   "outputs": [
    {
     "output_type": "stream",
     "name": "stdout",
     "text": "(60000, 784)\n(60000,)\n(10000, 784)\n(10000,)\n3\n"
    },
    {
     "output_type": "display_data",
     "data": {
      "text/plain": "<Figure size 432x288 with 1 Axes>",
      "image/svg+xml": "<?xml version=\"1.0\" encoding=\"utf-8\" standalone=\"no\"?>\n<!DOCTYPE svg PUBLIC \"-//W3C//DTD SVG 1.1//EN\"\n  \"http://www.w3.org/Graphics/SVG/1.1/DTD/svg11.dtd\">\n<!-- Created with matplotlib (https://matplotlib.org/) -->\n<svg height=\"248.518125pt\" version=\"1.1\" viewBox=\"0 0 251.565 248.518125\" width=\"251.565pt\" xmlns=\"http://www.w3.org/2000/svg\" xmlns:xlink=\"http://www.w3.org/1999/xlink\">\n <defs>\n  <style type=\"text/css\">\n*{stroke-linecap:butt;stroke-linejoin:round;}\n  </style>\n </defs>\n <g id=\"figure_1\">\n  <g id=\"patch_1\">\n   <path d=\"M 0 248.518125 \nL 251.565 248.518125 \nL 251.565 0 \nL 0 0 \nz\n\" style=\"fill:none;\"/>\n  </g>\n  <g id=\"axes_1\">\n   <g id=\"patch_2\">\n    <path d=\"M 26.925 224.64 \nL 244.365 224.64 \nL 244.365 7.2 \nL 26.925 7.2 \nz\n\" style=\"fill:#ffffff;\"/>\n   </g>\n   <g clip-path=\"url(#pb687009d53)\">\n    <image height=\"218\" id=\"image97fc9c72ba\" transform=\"scale(1 -1)translate(0 -218)\" width=\"218\" x=\"26.925\" xlink:href=\"data:image/png;base64,\niVBORw0KGgoAAAANSUhEUgAAANoAAADaCAYAAADAHVzbAAAABHNCSVQICAgIfAhkiAAABshJREFUeJzt3X+o1Xcdx/F77vVa20y7auKWq9A5FHGhbXNbJAUjnLTWUuf6tQ1SVpOIxgiaQT+ooD+CwaVGtBZkpBuV64cg9Mdgf2iOkanc3FwjWq6lywyHc+b90V8LhM775rnnvu69nsfj35ffez44n/vC/XLOadzcWD/SBYyr7ok+AHQCoUGA0CBAaBAgNAgQGgQIDQKEBgFCgwChQYDQIEBoECA0CBAaBAgNAoQGAUKDAKFBgNAgQGgQIDQIEBoETJvoA1RObLqx3Dfd/6um26dnvdju48S878DGcp/5jcvKvfvpgXIfGRy84DMxNu5oECA0CBAaBAgNAoQGAUKDAKFBQGMiv7apMa1+jPfKzoXl/ruV29t5nIvGe/9wZ7nPfaD5NnT4+Tafhq4udzSIEBoECA0ChAYBQoMAoUGA0CBgQp+jTbt8frk/8cyucXvt/pOLy/3lf88a08+f0XO26fbg3ENj+tlj9aNTVzbd+p99f3ntFbf/sc2n6QzuaBAgNAgQGgQIDQKEBgFCgwChQcCEPkfrmTO73Lfs21PuH7zkdNNt+SOfK69d+NDhch86ebLcR9N96aVNt1dvWV5e++qnTpX7M9f9pKUz/T/Ojpwr9+seub/c3/HV+r9Zp3JHgwChQYDQIEBoECA0CBAaBAgNAib0Odpo/rz93eU+sPrRptvGF9aU176+oVHuQ8eOl/t46unrK/fj65eU+7at3yn3q3rfdMFnesOu1+r36T28+KqWf/bFzB0NAoQGAUKDAKFBgNAgQGgQUH9v0gTrPXhZ/QdWN58eW7S7vHTt1ZvKvXsCf70/2lt05vxgb7mvm198L1NXV9eBz/Rf8Jne8K5pJ8q9seK2ch/ZP9Dya09l7mgQIDQIEBoECA0ChAYBQoMAoUHApH6OtuDb+8r91t13Nd2O3POW8tqlR18u98FynViN3unlfm7pa+P22sum1/9kjq+aWe5v29/O00wd7mgQIDQIEBoECA0ChAYBQoMAoUHApP64uU41clP9MXsP/Pin5f6BS15v53HO4+PmWuOOBgFCgwChQYDQIEBoECA0CBAaBEzq96N1qqGv15/rOJ7PyUbzzefWlvvsriOhk0wt7mgQIDQIEBoECA0ChAYBQoMAv96fhP6xa0H9B5ZmzvG/7Lzm0XK/9b4vlvu87+1p53GmDHc0CBAaBAgNAoQGAUKDAKFBgNAgwMfNTUI9c+eU++kbFpX7K/fUX9v01KrvN91mdb+5vHY0RwfPlPtH9m9uur393hPltUPHjrd0psnAHQ0ChAYBQoMAoUGA0CBAaBAgNAjwHK0DNd6zrOn20pfrfw6/v35bu4/zX7c//6FyH153ttyHTvyzncdpK3c0CBAaBAgNAoQGAUKDAKFBgNAgwHM0ztfdU85//dKqcj9wX387T3OeD6/9ZLkPHzg8bq89Vu5oECA0CBAaBAgNAoQGAUKDAKFBQMd+P1qjd3q5H/vZwnL/7coflvvRweZ/tet++fny2oU/r9931bP3ULmPDA6We2l4qJyv/Nbecr/pxo+V+54V2y/4SBcDdzQIEBoECA0ChAYBQoMAoUFAx/56/9jma8v96WtHe7tH/fVGs4qnB89u+G79ozfU8+qDd9Sv/WB9tpH9A/ULlBfX76oaGm60/rNH8eLavnJfcGDcXnrM3NEgQGgQIDQIEBoECA0ChAYBQoOAjn2ONpU9dc3j5f74jnnlvu3ONc3HQ8+V1565ZWW5b12yo9zHYsbRqfvJiO5oECA0CBAaBAgNAoQGAUKDAKFBQMc+R7ti99/K/SubV5T71+btb+dx2uqOGcfLvfex3zTddvz9+vLaXy96uKUztcPsg/8q9+HQOVrhjgYBQoMAoUGA0CBAaBAgNAgQGgQ0bm6sn7pv8hlHpz5+Q7lv3Lq73Le89YV2HqcjLHlyU7lffe+Rch8+fbqdx2krdzQIEBoECA0ChAYBQoMAoUGA0CDAc7QWTbt8frn/5e6FTbcv3P2L8tq7Zr7U0pmmgifPNP/utodu+2h57dBA/ZmTk5k7GgQIDQKEBgFCgwChQYDQIMCv9ydAT19fuZ9b9s5y/9Mnppf7zjX95b58em+5V3oa9f+bh0bqD31b/MRnm29b9rV0pqnAHQ0ChAYBQoMAoUGA0CBAaBAgNAjwHA0C3NEgQGgQIDQIEBoECA0ChAYBQoMAoUGA0CBAaBAgNAgQGgQIDQKEBgFCgwChQYDQIEBoECA0CBAaBAgNAoQGAUKDAKFBgNAgQGgQIDQIEBoECA0ChAYBQoMAoUGA0CBAaBAgNAgQGgQIDQKEBgH/AYI6AQ+aXdDsAAAAAElFTkSuQmCC\" y=\"-6.64\"/>\n   </g>\n   <g id=\"matplotlib.axis_1\">\n    <g id=\"xtick_1\">\n     <g id=\"line2d_1\">\n      <defs>\n       <path d=\"M 0 0 \nL 0 3.5 \n\" id=\"ma6ae22ba2a\" style=\"stroke:#000000;stroke-width:0.8;\"/>\n      </defs>\n      <g>\n       <use style=\"stroke:#000000;stroke-width:0.8;\" x=\"30.807857\" xlink:href=\"#ma6ae22ba2a\" y=\"224.64\"/>\n      </g>\n     </g>\n     <g id=\"text_1\">\n      <!-- 0 -->\n      <defs>\n       <path d=\"M 31.78125 66.40625 \nQ 24.171875 66.40625 20.328125 58.90625 \nQ 16.5 51.421875 16.5 36.375 \nQ 16.5 21.390625 20.328125 13.890625 \nQ 24.171875 6.390625 31.78125 6.390625 \nQ 39.453125 6.390625 43.28125 13.890625 \nQ 47.125 21.390625 47.125 36.375 \nQ 47.125 51.421875 43.28125 58.90625 \nQ 39.453125 66.40625 31.78125 66.40625 \nz\nM 31.78125 74.21875 \nQ 44.046875 74.21875 50.515625 64.515625 \nQ 56.984375 54.828125 56.984375 36.375 \nQ 56.984375 17.96875 50.515625 8.265625 \nQ 44.046875 -1.421875 31.78125 -1.421875 \nQ 19.53125 -1.421875 13.0625 8.265625 \nQ 6.59375 17.96875 6.59375 36.375 \nQ 6.59375 54.828125 13.0625 64.515625 \nQ 19.53125 74.21875 31.78125 74.21875 \nz\n\" id=\"DejaVuSans-48\"/>\n      </defs>\n      <g transform=\"translate(27.626607 239.238437)scale(0.1 -0.1)\">\n       <use xlink:href=\"#DejaVuSans-48\"/>\n      </g>\n     </g>\n    </g>\n    <g id=\"xtick_2\">\n     <g id=\"line2d_2\">\n      <g>\n       <use style=\"stroke:#000000;stroke-width:0.8;\" x=\"69.636429\" xlink:href=\"#ma6ae22ba2a\" y=\"224.64\"/>\n      </g>\n     </g>\n     <g id=\"text_2\">\n      <!-- 5 -->\n      <defs>\n       <path d=\"M 10.796875 72.90625 \nL 49.515625 72.90625 \nL 49.515625 64.59375 \nL 19.828125 64.59375 \nL 19.828125 46.734375 \nQ 21.96875 47.46875 24.109375 47.828125 \nQ 26.265625 48.1875 28.421875 48.1875 \nQ 40.625 48.1875 47.75 41.5 \nQ 54.890625 34.8125 54.890625 23.390625 \nQ 54.890625 11.625 47.5625 5.09375 \nQ 40.234375 -1.421875 26.90625 -1.421875 \nQ 22.3125 -1.421875 17.546875 -0.640625 \nQ 12.796875 0.140625 7.71875 1.703125 \nL 7.71875 11.625 \nQ 12.109375 9.234375 16.796875 8.0625 \nQ 21.484375 6.890625 26.703125 6.890625 \nQ 35.15625 6.890625 40.078125 11.328125 \nQ 45.015625 15.765625 45.015625 23.390625 \nQ 45.015625 31 40.078125 35.4375 \nQ 35.15625 39.890625 26.703125 39.890625 \nQ 22.75 39.890625 18.8125 39.015625 \nQ 14.890625 38.140625 10.796875 36.28125 \nz\n\" id=\"DejaVuSans-53\"/>\n      </defs>\n      <g transform=\"translate(66.455179 239.238437)scale(0.1 -0.1)\">\n       <use xlink:href=\"#DejaVuSans-53\"/>\n      </g>\n     </g>\n    </g>\n    <g id=\"xtick_3\">\n     <g id=\"line2d_3\">\n      <g>\n       <use style=\"stroke:#000000;stroke-width:0.8;\" x=\"108.465\" xlink:href=\"#ma6ae22ba2a\" y=\"224.64\"/>\n      </g>\n     </g>\n     <g id=\"text_3\">\n      <!-- 10 -->\n      <defs>\n       <path d=\"M 12.40625 8.296875 \nL 28.515625 8.296875 \nL 28.515625 63.921875 \nL 10.984375 60.40625 \nL 10.984375 69.390625 \nL 28.421875 72.90625 \nL 38.28125 72.90625 \nL 38.28125 8.296875 \nL 54.390625 8.296875 \nL 54.390625 0 \nL 12.40625 0 \nz\n\" id=\"DejaVuSans-49\"/>\n      </defs>\n      <g transform=\"translate(102.1025 239.238437)scale(0.1 -0.1)\">\n       <use xlink:href=\"#DejaVuSans-49\"/>\n       <use x=\"63.623047\" xlink:href=\"#DejaVuSans-48\"/>\n      </g>\n     </g>\n    </g>\n    <g id=\"xtick_4\">\n     <g id=\"line2d_4\">\n      <g>\n       <use style=\"stroke:#000000;stroke-width:0.8;\" x=\"147.293571\" xlink:href=\"#ma6ae22ba2a\" y=\"224.64\"/>\n      </g>\n     </g>\n     <g id=\"text_4\">\n      <!-- 15 -->\n      <g transform=\"translate(140.931071 239.238437)scale(0.1 -0.1)\">\n       <use xlink:href=\"#DejaVuSans-49\"/>\n       <use x=\"63.623047\" xlink:href=\"#DejaVuSans-53\"/>\n      </g>\n     </g>\n    </g>\n    <g id=\"xtick_5\">\n     <g id=\"line2d_5\">\n      <g>\n       <use style=\"stroke:#000000;stroke-width:0.8;\" x=\"186.122143\" xlink:href=\"#ma6ae22ba2a\" y=\"224.64\"/>\n      </g>\n     </g>\n     <g id=\"text_5\">\n      <!-- 20 -->\n      <defs>\n       <path d=\"M 19.1875 8.296875 \nL 53.609375 8.296875 \nL 53.609375 0 \nL 7.328125 0 \nL 7.328125 8.296875 \nQ 12.9375 14.109375 22.625 23.890625 \nQ 32.328125 33.6875 34.8125 36.53125 \nQ 39.546875 41.84375 41.421875 45.53125 \nQ 43.3125 49.21875 43.3125 52.78125 \nQ 43.3125 58.59375 39.234375 62.25 \nQ 35.15625 65.921875 28.609375 65.921875 \nQ 23.96875 65.921875 18.8125 64.3125 \nQ 13.671875 62.703125 7.8125 59.421875 \nL 7.8125 69.390625 \nQ 13.765625 71.78125 18.9375 73 \nQ 24.125 74.21875 28.421875 74.21875 \nQ 39.75 74.21875 46.484375 68.546875 \nQ 53.21875 62.890625 53.21875 53.421875 \nQ 53.21875 48.921875 51.53125 44.890625 \nQ 49.859375 40.875 45.40625 35.40625 \nQ 44.1875 33.984375 37.640625 27.21875 \nQ 31.109375 20.453125 19.1875 8.296875 \nz\n\" id=\"DejaVuSans-50\"/>\n      </defs>\n      <g transform=\"translate(179.759643 239.238437)scale(0.1 -0.1)\">\n       <use xlink:href=\"#DejaVuSans-50\"/>\n       <use x=\"63.623047\" xlink:href=\"#DejaVuSans-48\"/>\n      </g>\n     </g>\n    </g>\n    <g id=\"xtick_6\">\n     <g id=\"line2d_6\">\n      <g>\n       <use style=\"stroke:#000000;stroke-width:0.8;\" x=\"224.950714\" xlink:href=\"#ma6ae22ba2a\" y=\"224.64\"/>\n      </g>\n     </g>\n     <g id=\"text_6\">\n      <!-- 25 -->\n      <g transform=\"translate(218.588214 239.238437)scale(0.1 -0.1)\">\n       <use xlink:href=\"#DejaVuSans-50\"/>\n       <use x=\"63.623047\" xlink:href=\"#DejaVuSans-53\"/>\n      </g>\n     </g>\n    </g>\n   </g>\n   <g id=\"matplotlib.axis_2\">\n    <g id=\"ytick_1\">\n     <g id=\"line2d_7\">\n      <defs>\n       <path d=\"M 0 0 \nL -3.5 0 \n\" id=\"me19b23f3c0\" style=\"stroke:#000000;stroke-width:0.8;\"/>\n      </defs>\n      <g>\n       <use style=\"stroke:#000000;stroke-width:0.8;\" x=\"26.925\" xlink:href=\"#me19b23f3c0\" y=\"11.082857\"/>\n      </g>\n     </g>\n     <g id=\"text_7\">\n      <!-- 0 -->\n      <g transform=\"translate(13.5625 14.882076)scale(0.1 -0.1)\">\n       <use xlink:href=\"#DejaVuSans-48\"/>\n      </g>\n     </g>\n    </g>\n    <g id=\"ytick_2\">\n     <g id=\"line2d_8\">\n      <g>\n       <use style=\"stroke:#000000;stroke-width:0.8;\" x=\"26.925\" xlink:href=\"#me19b23f3c0\" y=\"49.911429\"/>\n      </g>\n     </g>\n     <g id=\"text_8\">\n      <!-- 5 -->\n      <g transform=\"translate(13.5625 53.710647)scale(0.1 -0.1)\">\n       <use xlink:href=\"#DejaVuSans-53\"/>\n      </g>\n     </g>\n    </g>\n    <g id=\"ytick_3\">\n     <g id=\"line2d_9\">\n      <g>\n       <use style=\"stroke:#000000;stroke-width:0.8;\" x=\"26.925\" xlink:href=\"#me19b23f3c0\" y=\"88.74\"/>\n      </g>\n     </g>\n     <g id=\"text_9\">\n      <!-- 10 -->\n      <g transform=\"translate(7.2 92.539219)scale(0.1 -0.1)\">\n       <use xlink:href=\"#DejaVuSans-49\"/>\n       <use x=\"63.623047\" xlink:href=\"#DejaVuSans-48\"/>\n      </g>\n     </g>\n    </g>\n    <g id=\"ytick_4\">\n     <g id=\"line2d_10\">\n      <g>\n       <use style=\"stroke:#000000;stroke-width:0.8;\" x=\"26.925\" xlink:href=\"#me19b23f3c0\" y=\"127.568571\"/>\n      </g>\n     </g>\n     <g id=\"text_10\">\n      <!-- 15 -->\n      <g transform=\"translate(7.2 131.36779)scale(0.1 -0.1)\">\n       <use xlink:href=\"#DejaVuSans-49\"/>\n       <use x=\"63.623047\" xlink:href=\"#DejaVuSans-53\"/>\n      </g>\n     </g>\n    </g>\n    <g id=\"ytick_5\">\n     <g id=\"line2d_11\">\n      <g>\n       <use style=\"stroke:#000000;stroke-width:0.8;\" x=\"26.925\" xlink:href=\"#me19b23f3c0\" y=\"166.397143\"/>\n      </g>\n     </g>\n     <g id=\"text_11\">\n      <!-- 20 -->\n      <g transform=\"translate(7.2 170.196362)scale(0.1 -0.1)\">\n       <use xlink:href=\"#DejaVuSans-50\"/>\n       <use x=\"63.623047\" xlink:href=\"#DejaVuSans-48\"/>\n      </g>\n     </g>\n    </g>\n    <g id=\"ytick_6\">\n     <g id=\"line2d_12\">\n      <g>\n       <use style=\"stroke:#000000;stroke-width:0.8;\" x=\"26.925\" xlink:href=\"#me19b23f3c0\" y=\"205.225714\"/>\n      </g>\n     </g>\n     <g id=\"text_12\">\n      <!-- 25 -->\n      <g transform=\"translate(7.2 209.024933)scale(0.1 -0.1)\">\n       <use xlink:href=\"#DejaVuSans-50\"/>\n       <use x=\"63.623047\" xlink:href=\"#DejaVuSans-53\"/>\n      </g>\n     </g>\n    </g>\n   </g>\n   <g id=\"patch_3\">\n    <path d=\"M 26.925 224.64 \nL 26.925 7.2 \n\" style=\"fill:none;stroke:#000000;stroke-linecap:square;stroke-linejoin:miter;stroke-width:0.8;\"/>\n   </g>\n   <g id=\"patch_4\">\n    <path d=\"M 244.365 224.64 \nL 244.365 7.2 \n\" style=\"fill:none;stroke:#000000;stroke-linecap:square;stroke-linejoin:miter;stroke-width:0.8;\"/>\n   </g>\n   <g id=\"patch_5\">\n    <path d=\"M 26.925 224.64 \nL 244.365 224.64 \n\" style=\"fill:none;stroke:#000000;stroke-linecap:square;stroke-linejoin:miter;stroke-width:0.8;\"/>\n   </g>\n   <g id=\"patch_6\">\n    <path d=\"M 26.925 7.2 \nL 244.365 7.2 \n\" style=\"fill:none;stroke:#000000;stroke-linecap:square;stroke-linejoin:miter;stroke-width:0.8;\"/>\n   </g>\n  </g>\n </g>\n <defs>\n  <clipPath id=\"pb687009d53\">\n   <rect height=\"217.44\" width=\"217.44\" x=\"26.925\" y=\"7.2\"/>\n  </clipPath>\n </defs>\n</svg>\n",
      "image/png": "[encoded data removed]"
     },
     "metadata": {
      "needs_background": "light"
     }
    }
   ],
   "source": [
    "import sys, os\n",
    "import os.path as path\n",
    "sys.path.append(path.abspath(path.join(os.curdir ,\"../..\")))\n",
    "from dataset.mnist import load_mnist\n",
    "from matplotlib.pyplot import imshow\n",
    "from PIL import Image\n",
    "\n",
    "%matplotlib inline\n",
    "\n",
    "(x_train, y_train), (x_test, y_test) = load_mnist(flatten=True, normalize=False)\n",
    "\n",
    "print(x_train.shape)\n",
    "print(y_train.shape)\n",
    "print(x_test.shape)\n",
    "print(y_test.shape)\n",
    "\n",
    "def show(i):\n",
    "    img = x_train[i]\n",
    "    label = y_train[i]\n",
    "\n",
    "    img = img.reshape(28, 28)\n",
    "    imshow(img)\n",
    "    print(label)\n",
    "\n",
    "show(12345)"
   ]
  },
  {
   "cell_type": "code",
   "execution_count": 22,
   "metadata": {},
   "outputs": [
    {
     "output_type": "stream",
     "name": "stdout",
     "text": "Accuracy: 0.9207\nAccuracy: 0.9207\n"
    }
   ],
   "source": [
    "# mnistの推論\n",
    "import pickle\n",
    "\n",
    "def load_mnist_network():\n",
    "    with open(\"../../ch03/sample_weight.pkl\", \"rb\") as f:\n",
    "        network = pickle.load(f)\n",
    "    return network\n",
    "\n",
    "def predcit_mnist(network, x):\n",
    "    W1, W2, W3 = network['W1'], network['W2'], network['W3']\n",
    "    b1, b2, b3 = network['b1'], network['b2'], network['b3']\n",
    "\n",
    "    a1 = np.dot(x, W1) + b1\n",
    "    z1 = sigmoid(a1)\n",
    "    a2 = np.dot(z1, W2) + b2\n",
    "    z2 = sigmoid(a2)\n",
    "    a3 = np.dot(z2, W3) + b3\n",
    "    y = softmax(a3)\n",
    "    return y\n",
    "\n",
    "def run_mnist():\n",
    "    n = load_mnist_network()\n",
    "    accu = 0\n",
    "    for i in range(len(x_test)):\n",
    "        y = predcit_mnist(n, x_test[i])\n",
    "        p = np.argmax(y)\n",
    "        if p == y_test[i]:\n",
    "            accu += 1\n",
    "\n",
    "    print(\"Accuracy: \" + str(float(accu) / float(len(x_test))))\n",
    "\n",
    "run_mnist()\n",
    "\n",
    "# mnistの推論（バッチ編）\n",
    "def run_mnist_in_batch():\n",
    "    n = load_mnist_network()\n",
    "    batch_size = 100\n",
    "    accu = 0\n",
    "    for i in range(0, len(x_test), batch_size):\n",
    "        x_batch = x_test[i:i+batch_size]\n",
    "        y_batch = predcit_mnist(n, x_batch)\n",
    "        p = np.argmax(y_batch, axis=1)\n",
    "        accu += np.sum(p == y_test[i:i+batch_size])\n",
    "\n",
    "    print(\"Accuracy: \" + str(float(accu) / float(len(x_test))))\n",
    "\n",
    "run_mnist_in_batch()"
   ]
  },
  {
   "cell_type": "code",
   "execution_count": null,
   "metadata": {},
   "outputs": [],
   "source": []
  }
 ],
 "metadata": {
  "kernelspec": {
   "name": "python3",
   "display_name": "Python 3"
  }
 },
 "nbformat": 4,
 "nbformat_minor": 4
}